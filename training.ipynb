{
 "cells": [
  {
   "cell_type": "markdown",
   "metadata": {},
   "source": [
    "IMPORTING ESSENTIAL LIBRARIES\n",
    "TENSORFLOW FOR TRAINIG (Layers,Sequntial,Keras)\n",
    "PATHLIB FOR DATASET FETCHING (Path)\n",
    "NUMPY FOR DATA PROCESSING (Numpy Array {.array} conversion)\n",
    "OPENCV (cv2) FOR IMAGE PROCESSING (imread)\n",
    "MATHPLOTLIB.PYPLOT FOR IMAGE VIEWING (imshow)"
   ]
  },
  {
   "cell_type": "code",
   "execution_count": 2,
   "metadata": {},
   "outputs": [],
   "source": [
    "import tensorflow as tf\n",
    "from tensorflow import keras\n",
    "from tensorflow.keras import layers , Sequential\n",
    "import numpy as np\n",
    "#import pandas as pd\n",
    "import cv2\n",
    "import matplotlib.pyplot as plt\n",
    "import pathlib\n",
    "%matplotlib inline"
   ]
  },
  {
   "cell_type": "markdown",
   "metadata": {},
   "source": [
    "Pointer to Train, Test, Validation File Directories"
   ]
  },
  {
   "cell_type": "code",
   "execution_count": 7,
   "metadata": {},
   "outputs": [
    {
     "data": {
      "text/plain": [
       "PosixPath('Potato_Dataset/Test')"
      ]
     },
     "execution_count": 7,
     "metadata": {},
     "output_type": "execute_result"
    }
   ],
   "source": [
    "dataset_dir_train = pathlib.Path(\"Potato_Dataset/Train\") #Train Directory\n",
    "dataset_dir_test = pathlib.Path(\"Potato_Dataset/Test\") #Test Directory\n",
    "dataset_dir_valid = pathlib.Path(\"Potato_Dataset/Valid\") #Valid Directory\n",
    "dataset_dir_test"
   ]
  },
  {
   "cell_type": "markdown",
   "metadata": {},
   "source": [
    "Labels for Classification, Currently 3.\n",
    "Datastructure Dictionary Used."
   ]
  },
  {
   "cell_type": "code",
   "execution_count": 8,
   "metadata": {},
   "outputs": [],
   "source": [
    "dataset_label = {\n",
    "    \"Potato Early Blight\" : 0,\n",
    "    \"Potato Late Blight\" : 1,\n",
    "    \"Healthy\" : 2\n",
    "}"
   ]
  },
  {
   "cell_type": "markdown",
   "metadata": {},
   "source": [
    "File Paths in Each Directory Converted grouped into list each having their Classification Name as Key. \n",
    "DataStructure Dictionary and List are used. \n",
    "\n",
    "Train Folder has 3 Directories for 3 different Classes.\n",
    "Similarly Test and Valid Dictionaries Created."
   ]
  },
  {
   "cell_type": "code",
   "execution_count": 9,
   "metadata": {},
   "outputs": [],
   "source": [
    "dataset_dictionary_train = {\n",
    "\n",
    "    \"Potato Early Blight\" : list(dataset_dir_train.glob(\"Potato___Early_blight/*\")),\n",
    "    \"Potato Late Blight\" : list(dataset_dir_train.glob(\"Potato___Late_blight/*\")),\n",
    "    \"Healthy\" : list(dataset_dir_train.glob(\"Potato___healthy/*\"))\n",
    "    \n",
    "}"
   ]
  },
  {
   "cell_type": "markdown",
   "metadata": {},
   "source": [
    "dataset_dictionary_train[\"Potato Early Blight\"]"
   ]
  },
  {
   "cell_type": "code",
   "execution_count": 5,
   "metadata": {},
   "outputs": [],
   "source": [
    "dataset_dictionary_valid = {\n",
    "\n",
    "    \"Potato Early Blight\" : list(dataset_dir_valid.glob(\"Potato___Early_blight/*\")),\n",
    "    \"Potato Late Blight\" : list(dataset_dir_valid.glob(\"Potato___Late_blight/*\")),\n",
    "    \"Healthy\" : list(dataset_dir_valid.glob(\"Potato___healthy/*\"))\n",
    "    \n",
    "}"
   ]
  },
  {
   "cell_type": "code",
   "execution_count": 6,
   "metadata": {},
   "outputs": [],
   "source": [
    "dataset_dictionary_test = {\n",
    "\n",
    "    \"Potato Early Blight\" : list(dataset_dir_test.glob(\"Potato___Early_blight/*\")),\n",
    "    \"Potato Late Blight\" : list(dataset_dir_test.glob(\"Potato___Late_blight/*\")),\n",
    "    \"Healthy\" : list(dataset_dir_test.glob(\"Potato___healthy/*\"))\n",
    "    \n",
    "}"
   ]
  },
  {
   "cell_type": "markdown",
   "metadata": {},
   "source": [
    "Image Files are Read using File Paths and append to a X_list and it's corresponding class label into y_list.\n",
    "\n",
    "Here label defines each key in Dictionary and images specify each value of that key in essence here it would be the list of File Paths.\n",
    "In Inner loop image is each element in images (List of File Paths)\n",
    "img will be an array(3D) returned from imread function using Corresponding File Paths.\n",
    "Image Then appended to X_list\n",
    "The integer value of key of image (it's label) is append to y_list.\n",
    "\n",
    "Aim :  TO CREATE X_test,X_traiin,X_valid,y_train,y_test,y_valid lists"
   ]
  },
  {
   "cell_type": "code",
   "execution_count": 7,
   "metadata": {},
   "outputs": [],
   "source": [
    "X_train = []\n",
    "y_train = []\n",
    "X_train_names = []\n",
    "\n",
    "for label, images in dataset_dictionary_train.items():\n",
    "    for image in images:\n",
    "        img = cv2.imread(str(image))\n",
    "        X_train.append(img)\n",
    "        X_train_names.append(str(image))\n",
    "        y_train.append(dataset_label[label])\n",
    "        "
   ]
  },
  {
   "cell_type": "markdown",
   "metadata": {},
   "source": [
    "X_train[0]"
   ]
  },
  {
   "cell_type": "code",
   "execution_count": 8,
   "metadata": {},
   "outputs": [],
   "source": [
    "X_test = []\n",
    "y_test = []\n",
    "X_test_names = []\n",
    "\n",
    "for label, images in dataset_dictionary_test.items():\n",
    "    for image in images:\n",
    "        img = cv2.imread(str(image))\n",
    "        X_test.append(img)\n",
    "        X_test_names.append(str(image))\n",
    "        y_test.append(dataset_label[label])\n",
    "        "
   ]
  },
  {
   "cell_type": "code",
   "execution_count": 9,
   "metadata": {},
   "outputs": [],
   "source": [
    "X_valid = []\n",
    "y_valid = []\n",
    "X_valid_names = []\n",
    "\n",
    "for label, images in dataset_dictionary_valid.items():\n",
    "    for image in images:\n",
    "        img = cv2.imread(str(image))\n",
    "        X_valid.append(img)\n",
    "        X_valid_names.append(str(image))\n",
    "        y_valid.append(dataset_label[label])\n",
    "        "
   ]
  },
  {
   "cell_type": "markdown",
   "metadata": {},
   "source": [
    "1 st Layer of Model\n",
    "It Resize and Rescales the Images"
   ]
  },
  {
   "cell_type": "code",
   "execution_count": 10,
   "metadata": {},
   "outputs": [],
   "source": [
    "resize_and_rescale = tf.keras.Sequential([\n",
    "\n",
    "    tf.keras.layers.experimental.preprocessing.Resizing(256,256),\n",
    "    tf.keras.layers.experimental.preprocessing.Rescaling(1.0/255)\n",
    "\n",
    "])"
   ]
  },
  {
   "cell_type": "markdown",
   "metadata": {},
   "source": [
    "2nd Layer of Model for Data Augmentation"
   ]
  },
  {
   "cell_type": "code",
   "execution_count": 11,
   "metadata": {},
   "outputs": [],
   "source": [
    "data_augmentation = tf.keras.Sequential([\n",
    "    tf.keras.layers.experimental.preprocessing.RandomFlip(\"horizontal_and_vertical\"),\n",
    "    tf.keras.layers.experimental.preprocessing.RandomRotation(0.2),\n",
    "    tf.keras.layers.experimental.preprocessing.RandomZoom(0.1),\n",
    "])"
   ]
  },
  {
   "cell_type": "markdown",
   "metadata": {},
   "source": [
    "Sequential Model Specified \n",
    "Having Layers\n",
    "1. Rescale\n",
    "2. Data Augmentation\n",
    "3. 4 Convolutional Layer\n",
    "4. 4 Pooling Layers\n",
    "5. Flatten Layer\n",
    "6. 2 Dense Layer with first having 20% Dropout\n",
    "7. Output Layer (3 nodes) "
   ]
  },
  {
   "cell_type": "code",
   "execution_count": 12,
   "metadata": {},
   "outputs": [],
   "source": [
    "model1 = Sequential([\n",
    "\n",
    "    resize_and_rescale,\n",
    "    data_augmentation,\n",
    "\n",
    "    layers.Conv2D(filters=32,kernel_size=(3,3),activation='relu',input_shape=(256,256,3),padding='same'),\n",
    "    layers.MaxPooling2D(pool_size=(2,2)),\n",
    "    layers.Conv2D(filters=64,kernel_size=(3,3),activation='relu',padding='same'),\n",
    "    layers.MaxPooling2D(pool_size=(2,2)),\n",
    "    layers.Conv2D(filters=64,kernel_size=(3,3),activation='relu',padding='same'),\n",
    "    layers.MaxPooling2D(pool_size=(2,2)),\n",
    "    layers.Conv2D(filters=64,kernel_size=(3,3),activation='relu',padding='same'),\n",
    "    layers.MaxPooling2D(pool_size=(2,2)),\n",
    "\n",
    "    layers.Flatten(),\n",
    "\n",
    "    layers.Dense(128,activation='relu'),\n",
    "    layers.Dropout(0.2),\n",
    "    layers.Dense(64,activation='relu'),\n",
    "\n",
    "    layers.Dense(3,activation='softmax'),\n",
    "\n",
    "])"
   ]
  },
  {
   "cell_type": "markdown",
   "metadata": {},
   "source": [
    "Building Model for Summary Analysis"
   ]
  },
  {
   "cell_type": "code",
   "execution_count": 13,
   "metadata": {},
   "outputs": [],
   "source": [
    "model1.build((None,256,256,3))"
   ]
  },
  {
   "cell_type": "code",
   "execution_count": 14,
   "metadata": {},
   "outputs": [
    {
     "name": "stdout",
     "output_type": "stream",
     "text": [
      "Model: \"sequential_2\"\n",
      "_________________________________________________________________\n",
      " Layer (type)                Output Shape              Param #   \n",
      "=================================================================\n",
      " sequential (Sequential)     (None, 256, 256, 3)       0         \n",
      "                                                                 \n",
      " sequential_1 (Sequential)   (None, 256, 256, 3)       0         \n",
      "                                                                 \n",
      " conv2d (Conv2D)             (None, 256, 256, 32)      896       \n",
      "                                                                 \n",
      " max_pooling2d (MaxPooling2  (None, 128, 128, 32)      0         \n",
      " D)                                                              \n",
      "                                                                 \n",
      " conv2d_1 (Conv2D)           (None, 128, 128, 64)      18496     \n",
      "                                                                 \n",
      " max_pooling2d_1 (MaxPoolin  (None, 64, 64, 64)        0         \n",
      " g2D)                                                            \n",
      "                                                                 \n",
      " conv2d_2 (Conv2D)           (None, 64, 64, 64)        36928     \n",
      "                                                                 \n",
      " max_pooling2d_2 (MaxPoolin  (None, 32, 32, 64)        0         \n",
      " g2D)                                                            \n",
      "                                                                 \n",
      " conv2d_3 (Conv2D)           (None, 32, 32, 64)        36928     \n",
      "                                                                 \n",
      " max_pooling2d_3 (MaxPoolin  (None, 16, 16, 64)        0         \n",
      " g2D)                                                            \n",
      "                                                                 \n",
      " flatten (Flatten)           (None, 16384)             0         \n",
      "                                                                 \n",
      " dense (Dense)               (None, 128)               2097280   \n",
      "                                                                 \n",
      " dropout (Dropout)           (None, 128)               0         \n",
      "                                                                 \n",
      " dense_1 (Dense)             (None, 64)                8256      \n",
      "                                                                 \n",
      " dense_2 (Dense)             (None, 3)                 195       \n",
      "                                                                 \n",
      "=================================================================\n",
      "Total params: 2198979 (8.39 MB)\n",
      "Trainable params: 2198979 (8.39 MB)\n",
      "Non-trainable params: 0 (0.00 Byte)\n",
      "_________________________________________________________________\n"
     ]
    }
   ],
   "source": [
    "model1.summary() #Model Summary"
   ]
  },
  {
   "cell_type": "markdown",
   "metadata": {},
   "source": [
    "Converting X_list and y_list to Numpy Array for Model Training."
   ]
  },
  {
   "cell_type": "code",
   "execution_count": 15,
   "metadata": {},
   "outputs": [],
   "source": [
    "X_train_np = np.array(X_train)\n",
    "y_train_np = np.array(y_train)"
   ]
  },
  {
   "cell_type": "code",
   "execution_count": 16,
   "metadata": {},
   "outputs": [],
   "source": [
    "X_valid_np = np.array(X_valid)\n",
    "y_valid_np = np.array(y_valid)"
   ]
  },
  {
   "cell_type": "markdown",
   "metadata": {},
   "source": [
    "Compile Model"
   ]
  },
  {
   "cell_type": "code",
   "execution_count": 17,
   "metadata": {},
   "outputs": [],
   "source": [
    "model1.compile(optimizer='adam',loss='sparse_categorical_crossentropy',metrics=['accuracy'])"
   ]
  },
  {
   "cell_type": "markdown",
   "metadata": {},
   "source": [
    "Training Model"
   ]
  },
  {
   "cell_type": "code",
   "execution_count": 18,
   "metadata": {},
   "outputs": [
    {
     "name": "stdout",
     "output_type": "stream",
     "text": [
      "Epoch 1/100\n",
      "29/29 [==============================] - 40s 1s/step - loss: 1.1027 - accuracy: 0.3722 - val_loss: 0.9683 - val_accuracy: 0.5833\n",
      "Epoch 2/100\n",
      "29/29 [==============================] - 40s 1s/step - loss: 0.6817 - accuracy: 0.6856 - val_loss: 0.5335 - val_accuracy: 0.7667\n",
      "Epoch 3/100\n",
      "29/29 [==============================] - 40s 1s/step - loss: 0.4024 - accuracy: 0.8322 - val_loss: 0.5869 - val_accuracy: 0.7433\n",
      "Epoch 4/100\n",
      "29/29 [==============================] - 39s 1s/step - loss: 0.3607 - accuracy: 0.8633 - val_loss: 0.4110 - val_accuracy: 0.8233\n",
      "Epoch 5/100\n",
      "29/29 [==============================] - 39s 1s/step - loss: 0.3465 - accuracy: 0.8611 - val_loss: 0.3533 - val_accuracy: 0.8367\n",
      "Epoch 6/100\n",
      "29/29 [==============================] - 39s 1s/step - loss: 0.3190 - accuracy: 0.8700 - val_loss: 0.2857 - val_accuracy: 0.8667\n",
      "Epoch 7/100\n",
      "29/29 [==============================] - 39s 1s/step - loss: 0.3129 - accuracy: 0.8678 - val_loss: 0.2744 - val_accuracy: 0.8667\n",
      "Epoch 8/100\n",
      "29/29 [==============================] - 39s 1s/step - loss: 0.2941 - accuracy: 0.8767 - val_loss: 0.2756 - val_accuracy: 0.8833\n",
      "Epoch 9/100\n",
      "29/29 [==============================] - 39s 1s/step - loss: 0.2394 - accuracy: 0.9178 - val_loss: 0.2450 - val_accuracy: 0.9167\n",
      "Epoch 10/100\n",
      "29/29 [==============================] - 39s 1s/step - loss: 0.2514 - accuracy: 0.9067 - val_loss: 0.3023 - val_accuracy: 0.8700\n",
      "Epoch 11/100\n",
      "29/29 [==============================] - 39s 1s/step - loss: 0.3219 - accuracy: 0.8689 - val_loss: 0.3336 - val_accuracy: 0.8567\n",
      "Epoch 12/100\n",
      "29/29 [==============================] - 39s 1s/step - loss: 0.2416 - accuracy: 0.9144 - val_loss: 0.2048 - val_accuracy: 0.9067\n",
      "Epoch 13/100\n",
      "29/29 [==============================] - 39s 1s/step - loss: 0.1770 - accuracy: 0.9356 - val_loss: 0.1861 - val_accuracy: 0.9100\n",
      "Epoch 14/100\n",
      "29/29 [==============================] - 38s 1s/step - loss: 0.2020 - accuracy: 0.9311 - val_loss: 0.2218 - val_accuracy: 0.9133\n",
      "Epoch 15/100\n",
      "29/29 [==============================] - 38s 1s/step - loss: 0.1887 - accuracy: 0.9278 - val_loss: 0.3012 - val_accuracy: 0.9133\n",
      "Epoch 16/100\n",
      "29/29 [==============================] - 39s 1s/step - loss: 0.1497 - accuracy: 0.9578 - val_loss: 0.1947 - val_accuracy: 0.9267\n",
      "Epoch 17/100\n",
      "29/29 [==============================] - 39s 1s/step - loss: 0.1416 - accuracy: 0.9533 - val_loss: 0.3212 - val_accuracy: 0.9000\n",
      "Epoch 18/100\n",
      "29/29 [==============================] - 39s 1s/step - loss: 0.1765 - accuracy: 0.9278 - val_loss: 0.2908 - val_accuracy: 0.8733\n",
      "Epoch 19/100\n",
      "29/29 [==============================] - 39s 1s/step - loss: 0.1616 - accuracy: 0.9478 - val_loss: 0.2008 - val_accuracy: 0.9133\n",
      "Epoch 20/100\n",
      "29/29 [==============================] - 39s 1s/step - loss: 0.1252 - accuracy: 0.9578 - val_loss: 0.1557 - val_accuracy: 0.9333\n",
      "Epoch 21/100\n",
      "29/29 [==============================] - 39s 1s/step - loss: 0.1129 - accuracy: 0.9622 - val_loss: 0.3369 - val_accuracy: 0.8667\n",
      "Epoch 22/100\n",
      "29/29 [==============================] - 39s 1s/step - loss: 0.1671 - accuracy: 0.9378 - val_loss: 0.1764 - val_accuracy: 0.9233\n",
      "Epoch 23/100\n",
      "29/29 [==============================] - 39s 1s/step - loss: 0.1041 - accuracy: 0.9678 - val_loss: 0.2248 - val_accuracy: 0.9167\n",
      "Epoch 24/100\n",
      "29/29 [==============================] - 39s 1s/step - loss: 0.1059 - accuracy: 0.9667 - val_loss: 0.1765 - val_accuracy: 0.9333\n",
      "Epoch 25/100\n",
      "29/29 [==============================] - 39s 1s/step - loss: 0.1283 - accuracy: 0.9500 - val_loss: 0.0884 - val_accuracy: 0.9700\n",
      "Epoch 26/100\n",
      "29/29 [==============================] - 39s 1s/step - loss: 0.1452 - accuracy: 0.9467 - val_loss: 0.1059 - val_accuracy: 0.9567\n",
      "Epoch 27/100\n",
      "29/29 [==============================] - 39s 1s/step - loss: 0.0745 - accuracy: 0.9733 - val_loss: 0.2096 - val_accuracy: 0.9233\n",
      "Epoch 28/100\n",
      "29/29 [==============================] - 39s 1s/step - loss: 0.0900 - accuracy: 0.9633 - val_loss: 0.2982 - val_accuracy: 0.9067\n",
      "Epoch 29/100\n",
      "29/29 [==============================] - 38s 1s/step - loss: 0.0746 - accuracy: 0.9722 - val_loss: 0.3197 - val_accuracy: 0.8967\n",
      "Epoch 30/100\n",
      "29/29 [==============================] - 39s 1s/step - loss: 0.0890 - accuracy: 0.9689 - val_loss: 0.3246 - val_accuracy: 0.8867\n",
      "Epoch 31/100\n",
      "29/29 [==============================] - 39s 1s/step - loss: 0.1031 - accuracy: 0.9578 - val_loss: 0.3647 - val_accuracy: 0.8833\n",
      "Epoch 32/100\n",
      "29/29 [==============================] - 39s 1s/step - loss: 0.0974 - accuracy: 0.9700 - val_loss: 0.1342 - val_accuracy: 0.9433\n",
      "Epoch 33/100\n",
      "29/29 [==============================] - 39s 1s/step - loss: 0.1038 - accuracy: 0.9578 - val_loss: 0.1404 - val_accuracy: 0.9333\n",
      "Epoch 34/100\n",
      "29/29 [==============================] - 39s 1s/step - loss: 0.0766 - accuracy: 0.9700 - val_loss: 0.0959 - val_accuracy: 0.9633\n",
      "Epoch 35/100\n",
      "29/29 [==============================] - 39s 1s/step - loss: 0.0759 - accuracy: 0.9700 - val_loss: 0.2243 - val_accuracy: 0.9067\n",
      "Epoch 36/100\n",
      "29/29 [==============================] - 39s 1s/step - loss: 0.1038 - accuracy: 0.9611 - val_loss: 0.0963 - val_accuracy: 0.9700\n",
      "Epoch 37/100\n",
      "29/29 [==============================] - 39s 1s/step - loss: 0.0962 - accuracy: 0.9644 - val_loss: 0.1518 - val_accuracy: 0.9333\n",
      "Epoch 38/100\n",
      "29/29 [==============================] - 39s 1s/step - loss: 0.0791 - accuracy: 0.9700 - val_loss: 0.1161 - val_accuracy: 0.9567\n",
      "Epoch 39/100\n",
      "29/29 [==============================] - 39s 1s/step - loss: 0.0614 - accuracy: 0.9767 - val_loss: 0.1138 - val_accuracy: 0.9533\n",
      "Epoch 40/100\n",
      "29/29 [==============================] - 39s 1s/step - loss: 0.0717 - accuracy: 0.9767 - val_loss: 0.6567 - val_accuracy: 0.8367\n",
      "Epoch 41/100\n",
      "29/29 [==============================] - 39s 1s/step - loss: 0.1304 - accuracy: 0.9611 - val_loss: 0.1512 - val_accuracy: 0.9367\n",
      "Epoch 42/100\n",
      "29/29 [==============================] - 39s 1s/step - loss: 0.0666 - accuracy: 0.9756 - val_loss: 0.3139 - val_accuracy: 0.8933\n",
      "Epoch 43/100\n",
      "29/29 [==============================] - 39s 1s/step - loss: 0.0584 - accuracy: 0.9833 - val_loss: 0.1787 - val_accuracy: 0.9333\n",
      "Epoch 44/100\n",
      "29/29 [==============================] - 39s 1s/step - loss: 0.0562 - accuracy: 0.9811 - val_loss: 0.2149 - val_accuracy: 0.9167\n",
      "Epoch 45/100\n",
      "29/29 [==============================] - 39s 1s/step - loss: 0.0633 - accuracy: 0.9767 - val_loss: 0.2633 - val_accuracy: 0.9267\n",
      "Epoch 46/100\n",
      "29/29 [==============================] - 39s 1s/step - loss: 0.0897 - accuracy: 0.9656 - val_loss: 0.3025 - val_accuracy: 0.8800\n",
      "Epoch 47/100\n",
      "29/29 [==============================] - 39s 1s/step - loss: 0.0696 - accuracy: 0.9722 - val_loss: 0.2109 - val_accuracy: 0.9433\n",
      "Epoch 48/100\n",
      "29/29 [==============================] - 39s 1s/step - loss: 0.0780 - accuracy: 0.9744 - val_loss: 0.2859 - val_accuracy: 0.8800\n",
      "Epoch 49/100\n",
      "29/29 [==============================] - 39s 1s/step - loss: 0.0499 - accuracy: 0.9800 - val_loss: 0.1174 - val_accuracy: 0.9367\n",
      "Epoch 50/100\n",
      "29/29 [==============================] - 39s 1s/step - loss: 0.1204 - accuracy: 0.9578 - val_loss: 0.1557 - val_accuracy: 0.9333\n",
      "Epoch 51/100\n",
      "29/29 [==============================] - 39s 1s/step - loss: 0.1145 - accuracy: 0.9622 - val_loss: 0.1468 - val_accuracy: 0.9433\n",
      "Epoch 52/100\n",
      "29/29 [==============================] - 39s 1s/step - loss: 0.1060 - accuracy: 0.9656 - val_loss: 0.6962 - val_accuracy: 0.8200\n",
      "Epoch 53/100\n",
      "29/29 [==============================] - 39s 1s/step - loss: 0.1321 - accuracy: 0.9567 - val_loss: 0.1981 - val_accuracy: 0.9133\n",
      "Epoch 54/100\n",
      "29/29 [==============================] - 39s 1s/step - loss: 0.0489 - accuracy: 0.9856 - val_loss: 0.4513 - val_accuracy: 0.8867\n",
      "Epoch 55/100\n",
      "29/29 [==============================] - 39s 1s/step - loss: 0.1286 - accuracy: 0.9600 - val_loss: 0.1024 - val_accuracy: 0.9767\n",
      "Epoch 56/100\n",
      "29/29 [==============================] - 39s 1s/step - loss: 0.1268 - accuracy: 0.9522 - val_loss: 0.2652 - val_accuracy: 0.9100\n",
      "Epoch 57/100\n",
      "29/29 [==============================] - 39s 1s/step - loss: 0.0684 - accuracy: 0.9789 - val_loss: 0.0970 - val_accuracy: 0.9567\n",
      "Epoch 58/100\n",
      "29/29 [==============================] - 39s 1s/step - loss: 0.0646 - accuracy: 0.9778 - val_loss: 0.1928 - val_accuracy: 0.9400\n",
      "Epoch 59/100\n",
      "29/29 [==============================] - 39s 1s/step - loss: 0.0581 - accuracy: 0.9833 - val_loss: 0.3395 - val_accuracy: 0.8867\n",
      "Epoch 60/100\n",
      "29/29 [==============================] - 39s 1s/step - loss: 0.0483 - accuracy: 0.9800 - val_loss: 0.2792 - val_accuracy: 0.9000\n",
      "Epoch 61/100\n",
      "29/29 [==============================] - 39s 1s/step - loss: 0.0424 - accuracy: 0.9822 - val_loss: 0.2921 - val_accuracy: 0.9033\n",
      "Epoch 62/100\n",
      "29/29 [==============================] - 39s 1s/step - loss: 0.0392 - accuracy: 0.9844 - val_loss: 0.5842 - val_accuracy: 0.8500\n",
      "Epoch 63/100\n",
      "29/29 [==============================] - 39s 1s/step - loss: 0.0434 - accuracy: 0.9867 - val_loss: 0.2251 - val_accuracy: 0.9400\n",
      "Epoch 64/100\n",
      "29/29 [==============================] - 39s 1s/step - loss: 0.0994 - accuracy: 0.9722 - val_loss: 0.1858 - val_accuracy: 0.9200\n",
      "Epoch 65/100\n",
      "29/29 [==============================] - 39s 1s/step - loss: 0.0725 - accuracy: 0.9744 - val_loss: 0.1135 - val_accuracy: 0.9633\n",
      "Epoch 66/100\n",
      "29/29 [==============================] - 39s 1s/step - loss: 0.0633 - accuracy: 0.9800 - val_loss: 0.2351 - val_accuracy: 0.9133\n",
      "Epoch 67/100\n",
      "29/29 [==============================] - 39s 1s/step - loss: 0.0718 - accuracy: 0.9811 - val_loss: 0.2115 - val_accuracy: 0.9267\n",
      "Epoch 68/100\n",
      "29/29 [==============================] - 39s 1s/step - loss: 0.0563 - accuracy: 0.9800 - val_loss: 0.1062 - val_accuracy: 0.9567\n",
      "Epoch 69/100\n",
      "29/29 [==============================] - 39s 1s/step - loss: 0.0527 - accuracy: 0.9844 - val_loss: 0.1134 - val_accuracy: 0.9567\n",
      "Epoch 70/100\n",
      "29/29 [==============================] - 39s 1s/step - loss: 0.0251 - accuracy: 0.9933 - val_loss: 0.2379 - val_accuracy: 0.9167\n",
      "Epoch 71/100\n",
      "29/29 [==============================] - 39s 1s/step - loss: 0.0161 - accuracy: 0.9956 - val_loss: 0.3697 - val_accuracy: 0.8933\n",
      "Epoch 72/100\n",
      "29/29 [==============================] - 39s 1s/step - loss: 0.0296 - accuracy: 0.9922 - val_loss: 0.2245 - val_accuracy: 0.9200\n",
      "Epoch 73/100\n",
      "29/29 [==============================] - 39s 1s/step - loss: 0.1974 - accuracy: 0.9278 - val_loss: 0.2135 - val_accuracy: 0.9067\n",
      "Epoch 74/100\n",
      "29/29 [==============================] - 39s 1s/step - loss: 0.1217 - accuracy: 0.9633 - val_loss: 0.1051 - val_accuracy: 0.9733\n",
      "Epoch 75/100\n",
      "29/29 [==============================] - 39s 1s/step - loss: 0.0749 - accuracy: 0.9789 - val_loss: 0.4162 - val_accuracy: 0.8867\n",
      "Epoch 76/100\n",
      "29/29 [==============================] - 39s 1s/step - loss: 0.0763 - accuracy: 0.9722 - val_loss: 0.2180 - val_accuracy: 0.9267\n",
      "Epoch 77/100\n",
      "29/29 [==============================] - 39s 1s/step - loss: 0.0445 - accuracy: 0.9900 - val_loss: 0.1217 - val_accuracy: 0.9567\n",
      "Epoch 78/100\n",
      "29/29 [==============================] - 39s 1s/step - loss: 0.0414 - accuracy: 0.9844 - val_loss: 0.0624 - val_accuracy: 0.9800\n",
      "Epoch 79/100\n",
      "29/29 [==============================] - 39s 1s/step - loss: 0.0946 - accuracy: 0.9733 - val_loss: 0.0952 - val_accuracy: 0.9600\n",
      "Epoch 80/100\n",
      "29/29 [==============================] - 39s 1s/step - loss: 0.0353 - accuracy: 0.9844 - val_loss: 0.0619 - val_accuracy: 0.9733\n",
      "Epoch 81/100\n",
      "29/29 [==============================] - 39s 1s/step - loss: 0.0713 - accuracy: 0.9744 - val_loss: 0.1213 - val_accuracy: 0.9500\n",
      "Epoch 82/100\n",
      "29/29 [==============================] - 39s 1s/step - loss: 0.0299 - accuracy: 0.9900 - val_loss: 0.0859 - val_accuracy: 0.9733\n",
      "Epoch 83/100\n",
      "29/29 [==============================] - 39s 1s/step - loss: 0.0619 - accuracy: 0.9756 - val_loss: 2.5022 - val_accuracy: 0.6033\n",
      "Epoch 84/100\n",
      "29/29 [==============================] - 39s 1s/step - loss: 0.2677 - accuracy: 0.9267 - val_loss: 0.2029 - val_accuracy: 0.9367\n",
      "Epoch 85/100\n",
      "29/29 [==============================] - 39s 1s/step - loss: 0.0560 - accuracy: 0.9767 - val_loss: 0.1548 - val_accuracy: 0.9600\n",
      "Epoch 86/100\n",
      "29/29 [==============================] - 39s 1s/step - loss: 0.0619 - accuracy: 0.9822 - val_loss: 0.3846 - val_accuracy: 0.8833\n",
      "Epoch 87/100\n",
      "29/29 [==============================] - 39s 1s/step - loss: 0.0856 - accuracy: 0.9722 - val_loss: 0.5704 - val_accuracy: 0.8667\n",
      "Epoch 88/100\n",
      "29/29 [==============================] - 39s 1s/step - loss: 0.0808 - accuracy: 0.9800 - val_loss: 0.1843 - val_accuracy: 0.9400\n",
      "Epoch 89/100\n",
      "29/29 [==============================] - 39s 1s/step - loss: 0.0410 - accuracy: 0.9856 - val_loss: 0.0983 - val_accuracy: 0.9700\n",
      "Epoch 90/100\n",
      "29/29 [==============================] - 39s 1s/step - loss: 0.0198 - accuracy: 0.9944 - val_loss: 0.2138 - val_accuracy: 0.9400\n",
      "Epoch 91/100\n",
      "29/29 [==============================] - 39s 1s/step - loss: 0.0612 - accuracy: 0.9844 - val_loss: 0.1956 - val_accuracy: 0.9300\n",
      "Epoch 92/100\n",
      "29/29 [==============================] - 39s 1s/step - loss: 0.0199 - accuracy: 0.9900 - val_loss: 0.0902 - val_accuracy: 0.9700\n",
      "Epoch 93/100\n",
      "29/29 [==============================] - 39s 1s/step - loss: 0.0192 - accuracy: 0.9944 - val_loss: 0.1018 - val_accuracy: 0.9633\n",
      "Epoch 94/100\n",
      "29/29 [==============================] - 39s 1s/step - loss: 0.0191 - accuracy: 0.9933 - val_loss: 0.1660 - val_accuracy: 0.9533\n",
      "Epoch 95/100\n",
      "29/29 [==============================] - 39s 1s/step - loss: 0.0223 - accuracy: 0.9900 - val_loss: 0.1666 - val_accuracy: 0.9567\n",
      "Epoch 96/100\n",
      "29/29 [==============================] - 39s 1s/step - loss: 0.0908 - accuracy: 0.9689 - val_loss: 0.1727 - val_accuracy: 0.9333\n",
      "Epoch 97/100\n",
      "29/29 [==============================] - 39s 1s/step - loss: 0.0345 - accuracy: 0.9922 - val_loss: 0.2083 - val_accuracy: 0.9267\n",
      "Epoch 98/100\n",
      "29/29 [==============================] - 39s 1s/step - loss: 0.0335 - accuracy: 0.9911 - val_loss: 0.5150 - val_accuracy: 0.8867\n",
      "Epoch 99/100\n",
      "29/29 [==============================] - 39s 1s/step - loss: 0.0482 - accuracy: 0.9867 - val_loss: 0.1311 - val_accuracy: 0.9533\n",
      "Epoch 100/100\n",
      "29/29 [==============================] - 39s 1s/step - loss: 0.0213 - accuracy: 0.9922 - val_loss: 0.1308 - val_accuracy: 0.9633\n"
     ]
    }
   ],
   "source": [
    "history = model1.fit(X_train_np,y_train_np,epochs=100, validation_data=(X_valid_np,y_valid_np))"
   ]
  },
  {
   "cell_type": "markdown",
   "metadata": {},
   "source": [
    "Convert X_test and y_test to Numpy Array for Model Evaluation"
   ]
  },
  {
   "cell_type": "code",
   "execution_count": 22,
   "metadata": {},
   "outputs": [],
   "source": [
    "X_test_np = np.array(X_test)\n",
    "y_test_np = np.array(y_test)"
   ]
  },
  {
   "cell_type": "markdown",
   "metadata": {},
   "source": [
    "Model Evaluation"
   ]
  },
  {
   "cell_type": "code",
   "execution_count": 23,
   "metadata": {},
   "outputs": [
    {
     "name": "stdout",
     "output_type": "stream",
     "text": [
      "10/10 [==============================] - 2s 240ms/step - loss: 0.0881 - accuracy: 0.9767\n"
     ]
    },
    {
     "data": {
      "text/plain": [
       "[0.08814892172813416, 0.9766666889190674]"
      ]
     },
     "execution_count": 23,
     "metadata": {},
     "output_type": "execute_result"
    }
   ],
   "source": [
    "model1.evaluate(X_test_np,y_test_np)"
   ]
  },
  {
   "cell_type": "markdown",
   "metadata": {},
   "source": [
    "Model Saving as Folder"
   ]
  },
  {
   "cell_type": "code",
   "execution_count": 24,
   "metadata": {},
   "outputs": [
    {
     "name": "stdout",
     "output_type": "stream",
     "text": [
      "INFO:tensorflow:Assets written to: Models/2/assets\n"
     ]
    },
    {
     "name": "stderr",
     "output_type": "stream",
     "text": [
      "INFO:tensorflow:Assets written to: Models/2/assets\n"
     ]
    }
   ],
   "source": [
    "model1.save(f\"Models/{2}\")"
   ]
  }
 ],
 "metadata": {
  "kernelspec": {
   "display_name": "Python 3",
   "language": "python",
   "name": "python3"
  },
  "language_info": {
   "codemirror_mode": {
    "name": "ipython",
    "version": 3
   },
   "file_extension": ".py",
   "mimetype": "text/x-python",
   "name": "python",
   "nbconvert_exporter": "python",
   "pygments_lexer": "ipython3",
   "version": "3.11.6"
  }
 },
 "nbformat": 4,
 "nbformat_minor": 2
}
